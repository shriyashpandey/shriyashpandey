{
  "nbformat": 4,
  "nbformat_minor": 0,
  "metadata": {
    "colab": {
      "provenance": [],
      "authorship_tag": "ABX9TyOaED74vPgdzylAeHMU/9dd",
      "include_colab_link": true
    },
    "kernelspec": {
      "name": "python3",
      "display_name": "Python 3"
    },
    "language_info": {
      "name": "python"
    }
  },
  "cells": [
    {
      "cell_type": "markdown",
      "metadata": {
        "id": "view-in-github",
        "colab_type": "text"
      },
      "source": [
        "<a href=\"https://colab.research.google.com/github/shriyashpandey/shriyashpandey/blob/main/shriyash_activities.ipynb\" target=\"_parent\"><img src=\"https://colab.research.google.com/assets/colab-badge.svg\" alt=\"Open In Colab\"/></a>"
      ]
    },
    {
      "cell_type": "markdown",
      "source": [
        "Activity 1 [ Simple Airthmetic operaations ]"
      ],
      "metadata": {
        "id": "XTfKs6PViT2b"
      }
    },
    {
      "cell_type": "code",
      "source": [
        "win = 3 ;\n",
        "loss = 0 ;\n",
        "draw = 1 ;\n",
        "\n",
        "london_points = ( 6* win) + ( 2 * loss) + (1 * draw)\n",
        "london_points"
      ],
      "metadata": {
        "colab": {
          "base_uri": "https://localhost:8080/"
        },
        "id": "boy5Vo_Dc8Kz",
        "outputId": "43479e37-5816-46b6-cd32-98136ed82d0c"
      },
      "execution_count": null,
      "outputs": [
        {
          "output_type": "execute_result",
          "data": {
            "text/plain": [
              "19"
            ]
          },
          "metadata": {},
          "execution_count": 7
        }
      ]
    },
    {
      "cell_type": "code",
      "source": [
        "2 == 2 ;\n",
        "print (2 == 2)\n"
      ],
      "metadata": {
        "colab": {
          "base_uri": "https://localhost:8080/"
        },
        "id": "qIxPhcxzho7j",
        "outputId": "75858f46-8fce-4c8f-f21b-785a7e8e4ac9"
      },
      "execution_count": null,
      "outputs": [
        {
          "output_type": "stream",
          "name": "stdout",
          "text": [
            "True\n"
          ]
        }
      ]
    },
    {
      "cell_type": "markdown",
      "source": [
        "Activity 2 [ Finding Percentage ]"
      ],
      "metadata": {
        "id": "QTdvc1yIibrr"
      }
    },
    {
      "cell_type": "code",
      "source": [
        "total_weight = 130\n",
        "raisins = 50\n",
        "almonds = 60\n",
        "apricots = 20\n",
        "raisins_percent = (50 / (total_weight))*100\n",
        "raisins_percent\n"
      ],
      "metadata": {
        "colab": {
          "base_uri": "https://localhost:8080/"
        },
        "id": "7qP05vyAh9ai",
        "outputId": "967980a3-2822-4b8a-eb31-f883827d7af3"
      },
      "execution_count": null,
      "outputs": [
        {
          "output_type": "execute_result",
          "data": {
            "text/plain": [
              "38.46153846153847"
            ]
          },
          "metadata": {},
          "execution_count": 10
        }
      ]
    },
    {
      "cell_type": "markdown",
      "source": [
        "Some random practice of arithmetic operators\n"
      ],
      "metadata": {
        "id": "iCRzxgwAjnbF"
      }
    },
    {
      "cell_type": "code",
      "source": [
        "print ( \" HW\")"
      ],
      "metadata": {
        "id": "BIA-65FJjUgh",
        "colab": {
          "base_uri": "https://localhost:8080/"
        },
        "outputId": "7032e34e-5e95-4e82-8691-cbc9eb37537b"
      },
      "execution_count": null,
      "outputs": [
        {
          "output_type": "stream",
          "name": "stdout",
          "text": [
            " HW\n"
          ]
        }
      ]
    },
    {
      "cell_type": "code",
      "source": [
        "print (2 + 3+ 4 + 5 +8 )"
      ],
      "metadata": {
        "colab": {
          "base_uri": "https://localhost:8080/"
        },
        "id": "zcSKPVQB45l4",
        "outputId": "b9fab21b-8345-4d8b-f06f-9518c415ad3d"
      },
      "execution_count": null,
      "outputs": [
        {
          "output_type": "stream",
          "name": "stdout",
          "text": [
            "22\n"
          ]
        }
      ]
    },
    {
      "cell_type": "code",
      "source": [
        "3 == 4"
      ],
      "metadata": {
        "colab": {
          "base_uri": "https://localhost:8080/"
        },
        "id": "aWc_aH865FL1",
        "outputId": "10abb88f-8153-49cf-899f-d5e12c1726ec"
      },
      "execution_count": null,
      "outputs": [
        {
          "output_type": "execute_result",
          "data": {
            "text/plain": [
              "False"
            ]
          },
          "metadata": {},
          "execution_count": 3
        }
      ]
    },
    {
      "cell_type": "code",
      "source": [
        "a = 4 ;\n",
        "d = 2 ;\n",
        "w = 23;\n",
        "\n",
        "print ( a> d)"
      ],
      "metadata": {
        "colab": {
          "base_uri": "https://localhost:8080/"
        },
        "id": "B_maegM15OaS",
        "outputId": "47e17bbe-838a-46d6-d853-5600cc18ed5e"
      },
      "execution_count": null,
      "outputs": [
        {
          "output_type": "stream",
          "name": "stdout",
          "text": [
            "True\n"
          ]
        }
      ]
    },
    {
      "cell_type": "code",
      "source": [
        "print ( \"Hello World\" )"
      ],
      "metadata": {
        "colab": {
          "base_uri": "https://localhost:8080/"
        },
        "id": "cW13V1Lc5aNp",
        "outputId": "96c715c3-5860-4f10-ab10-0a1ee1420521"
      },
      "execution_count": null,
      "outputs": [
        {
          "output_type": "stream",
          "name": "stdout",
          "text": [
            "Hello World\n"
          ]
        }
      ]
    },
    {
      "cell_type": "code",
      "source": [
        "10E10"
      ],
      "metadata": {
        "colab": {
          "base_uri": "https://localhost:8080/"
        },
        "id": "cfzmNhNJcXuQ",
        "outputId": "bec98398-1aaf-4e72-da1c-cfc197e1faa6"
      },
      "execution_count": null,
      "outputs": [
        {
          "output_type": "execute_result",
          "data": {
            "text/plain": [
              "100000000000.0"
            ]
          },
          "metadata": {},
          "execution_count": 10
        }
      ]
    },
    {
      "cell_type": "code",
      "source": [
        "4E2"
      ],
      "metadata": {
        "colab": {
          "base_uri": "https://localhost:8080/"
        },
        "id": "nKP1LhU7fdW4",
        "outputId": "4d0a50e4-7c97-4bff-f249-2db46658d94f"
      },
      "execution_count": null,
      "outputs": [
        {
          "output_type": "execute_result",
          "data": {
            "text/plain": [
              "400.0"
            ]
          },
          "metadata": {},
          "execution_count": 11
        }
      ]
    },
    {
      "cell_type": "code",
      "source": [
        "3E2+2 # E represents 10 i.e. EX represents 10 to the power X , 4E10 means 4 into 10 to the power 10"
      ],
      "metadata": {
        "colab": {
          "base_uri": "https://localhost:8080/"
        },
        "id": "RkmjnMstff3X",
        "outputId": "691e8a91-d38d-4477-8a0f-b0deb7afd285"
      },
      "execution_count": null,
      "outputs": [
        {
          "output_type": "execute_result",
          "data": {
            "text/plain": [
              "302.0"
            ]
          },
          "metadata": {},
          "execution_count": 13
        }
      ]
    },
    {
      "cell_type": "code",
      "source": [
        "12*2-4**2+5-2"
      ],
      "metadata": {
        "colab": {
          "base_uri": "https://localhost:8080/"
        },
        "id": "_n1eKa-gfk3s",
        "outputId": "9f2cd836-db69-4960-c279-84b115380b2c"
      },
      "execution_count": null,
      "outputs": [
        {
          "output_type": "execute_result",
          "data": {
            "text/plain": [
              "11"
            ]
          },
          "metadata": {},
          "execution_count": 14
        }
      ]
    },
    {
      "cell_type": "code",
      "source": [
        "(2+3+8+2) %2 #modulo % operator that gives our remainder"
      ],
      "metadata": {
        "colab": {
          "base_uri": "https://localhost:8080/"
        },
        "id": "3Av1louUh-Yj",
        "outputId": "c0591b4a-5253-4119-e20a-57979d4b3e58"
      },
      "execution_count": null,
      "outputs": [
        {
          "output_type": "execute_result",
          "data": {
            "text/plain": [
              "1"
            ]
          },
          "metadata": {},
          "execution_count": 16
        }
      ]
    },
    {
      "cell_type": "code",
      "source": [
        "3//2 # // this basically floors the answer which means 3/2 is 1.5 and the floor of 1.5 is 1."
      ],
      "metadata": {
        "colab": {
          "base_uri": "https://localhost:8080/"
        },
        "id": "8kz9ePevi_BV",
        "outputId": "6f52d61c-5576-49e8-fbf5-b177393ca221"
      },
      "execution_count": null,
      "outputs": [
        {
          "output_type": "execute_result",
          "data": {
            "text/plain": [
              "1"
            ]
          },
          "metadata": {},
          "execution_count": 17
        }
      ]
    },
    {
      "cell_type": "code",
      "source": [
        "x = 4;\n",
        "y = 5;\n",
        "z = 43;\n",
        "\n",
        "print ( type (x)) # type() function is used to check the type of a varuable\n",
        "\n",
        "\n"
      ],
      "metadata": {
        "id": "7J8qRVxHjcDE",
        "colab": {
          "base_uri": "https://localhost:8080/"
        },
        "outputId": "2d563f3e-94b7-4c02-c9dd-669052552f1d"
      },
      "execution_count": null,
      "outputs": [
        {
          "output_type": "stream",
          "name": "stdout",
          "text": [
            "<class 'int'>\n"
          ]
        }
      ]
    },
    {
      "cell_type": "code",
      "source": [
        "x = 4\n",
        "y = 3\n",
        "z = 1\n",
        "a = x+y+z\n",
        "print (a)\n",
        "print (type (a))"
      ],
      "metadata": {
        "colab": {
          "base_uri": "https://localhost:8080/"
        },
        "id": "aV12egBGo1zb",
        "outputId": "9733e34c-05da-49b1-f1a2-6fef6d579fb3"
      },
      "execution_count": null,
      "outputs": [
        {
          "output_type": "stream",
          "name": "stdout",
          "text": [
            "8\n",
            "<class 'int'>\n"
          ]
        }
      ]
    },
    {
      "cell_type": "code",
      "source": [
        "x == y"
      ],
      "metadata": {
        "colab": {
          "base_uri": "https://localhost:8080/"
        },
        "id": "D2iaRGithtLk",
        "outputId": "727acb16-ba08-4fcc-cf98-100d34edf3f4"
      },
      "execution_count": null,
      "outputs": [
        {
          "output_type": "execute_result",
          "data": {
            "text/plain": [
              "False"
            ]
          },
          "metadata": {},
          "execution_count": 3
        }
      ]
    },
    {
      "cell_type": "code",
      "source": [
        "x = y"
      ],
      "metadata": {
        "id": "1-5L6c4IlDSa"
      },
      "execution_count": null,
      "outputs": []
    },
    {
      "cell_type": "code",
      "source": [
        "x == y"
      ],
      "metadata": {
        "colab": {
          "base_uri": "https://localhost:8080/"
        },
        "id": "jLW6a8T-lF5h",
        "outputId": "640a4a33-b46f-4226-b6a9-cd24de86fcf8"
      },
      "execution_count": null,
      "outputs": [
        {
          "output_type": "execute_result",
          "data": {
            "text/plain": [
              "True"
            ]
          },
          "metadata": {},
          "execution_count": 5
        }
      ]
    },
    {
      "cell_type": "code",
      "source": [
        "x != y"
      ],
      "metadata": {
        "colab": {
          "base_uri": "https://localhost:8080/"
        },
        "id": "o7QK_J5XlIfO",
        "outputId": "b3927a40-bcfa-4010-877d-b365f97d93f3"
      },
      "execution_count": null,
      "outputs": [
        {
          "output_type": "execute_result",
          "data": {
            "text/plain": [
              "False"
            ]
          },
          "metadata": {},
          "execution_count": 6
        }
      ]
    },
    {
      "cell_type": "code",
      "source": [
        "a = (288**28*20E10)/44//2\n",
        "b = 10//3\n",
        "print (b)\n",
        "print (a)\n",
        "type (a)\n"
      ],
      "metadata": {
        "colab": {
          "base_uri": "https://localhost:8080/"
        },
        "id": "LYfdi2rZlOSx",
        "outputId": "36866b1f-c594-48cb-e75b-913a7334b958"
      },
      "execution_count": null,
      "outputs": [
        {
          "output_type": "stream",
          "name": "stdout",
          "text": [
            "3\n",
            "1.6578184963632496e+78\n"
          ]
        },
        {
          "output_type": "execute_result",
          "data": {
            "text/plain": [
              "float"
            ]
          },
          "metadata": {},
          "execution_count": 8
        }
      ]
    },
    {
      "cell_type": "code",
      "source": [
        "2 == 8"
      ],
      "metadata": {
        "colab": {
          "base_uri": "https://localhost:8080/"
        },
        "id": "SdSnHeLvn9W7",
        "outputId": "6e7e526c-e078-490e-c19a-45bfe24eb2a3"
      },
      "execution_count": null,
      "outputs": [
        {
          "output_type": "execute_result",
          "data": {
            "text/plain": [
              "False"
            ]
          },
          "metadata": {},
          "execution_count": 10
        }
      ]
    },
    {
      "cell_type": "code",
      "source": [
        "x = 545\n",
        "fx = x**2+ 3*x -4\n",
        "print (fx)\n",
        "\n"
      ],
      "metadata": {
        "colab": {
          "base_uri": "https://localhost:8080/"
        },
        "id": "trrgZKpLofu8",
        "outputId": "b869af07-3e71-4a83-eaaf-d9420fe6f6ac"
      },
      "execution_count": null,
      "outputs": [
        {
          "output_type": "stream",
          "name": "stdout",
          "text": [
            "298656\n"
          ]
        }
      ]
    },
    {
      "cell_type": "markdown",
      "source": [
        "About Strings"
      ],
      "metadata": {
        "id": "kSi2Qm-mB9dX"
      }
    },
    {
      "cell_type": "code",
      "source": [
        "my_first_string = \" hello world of data science \"\n",
        "print (my_first_string)\n",
        "print (type(my_first_string))"
      ],
      "metadata": {
        "colab": {
          "base_uri": "https://localhost:8080/"
        },
        "id": "fy2hVXL69Gjh",
        "outputId": "086c496d-52dd-46f5-b045-ccb3bd537203"
      },
      "execution_count": null,
      "outputs": [
        {
          "output_type": "stream",
          "name": "stdout",
          "text": [
            " hello world of data science \n",
            "<class 'str'>\n"
          ]
        }
      ]
    },
    {
      "cell_type": "code",
      "source": [
        "new_message =  \"Hello, It's great you are learning about data data science, you will be successfull, keep working\"\n",
        "\n",
        "\n",
        "len(\" Hello, It's great you are learning about data data science, you will be successfull, keep working\"\n",
        "\n",
        "   )"
      ],
      "metadata": {
        "colab": {
          "base_uri": "https://localhost:8080/"
        },
        "id": "bIu7ivkEA5gK",
        "outputId": "f6b9ef48-d914-498e-83fe-184d9bf662d5"
      },
      "execution_count": null,
      "outputs": [
        {
          "output_type": "execute_result",
          "data": {
            "text/plain": [
              "98"
            ]
          },
          "metadata": {},
          "execution_count": 62
        }
      ]
    },
    {
      "cell_type": "code",
      "source": [
        "data_science = [20,21,212,44 ]\n",
        "data_science [3]"
      ],
      "metadata": {
        "colab": {
          "base_uri": "https://localhost:8080/"
        },
        "id": "BU3HjdBLDsi1",
        "outputId": "74876124-ab07-41a5-a416-20155d0061a8"
      },
      "execution_count": null,
      "outputs": [
        {
          "output_type": "execute_result",
          "data": {
            "text/plain": [
              "44"
            ]
          },
          "metadata": {},
          "execution_count": 63
        }
      ]
    },
    {
      "cell_type": "code",
      "source": [
        "my_list = [ \" Shriyash 21\" , \"Sakshi 21\"]\n",
        "my_list[ 1] = \" Saakshi 21\"\n",
        "print (my_list)"
      ],
      "metadata": {
        "colab": {
          "base_uri": "https://localhost:8080/"
        },
        "id": "PlxRQTOOKMuL",
        "outputId": "a4345f4b-a011-45d0-ba87-1b0aaa288c98"
      },
      "execution_count": null,
      "outputs": [
        {
          "output_type": "stream",
          "name": "stdout",
          "text": [
            "[' Shriyash 21', ' Saakshi 21']\n"
          ]
        }
      ]
    },
    {
      "cell_type": "markdown",
      "source": [
        "List Data Type"
      ],
      "metadata": {
        "id": "dTEr1cNAgTLQ"
      }
    },
    {
      "cell_type": "code",
      "source": [
        "my_second_list = [\"Shriyash 21\" , \"Sakshi 21\"]\n",
        "my_second_list [0] = \" Shriyaash 21\"\n",
        "print (my_second_list )"
      ],
      "metadata": {
        "colab": {
          "base_uri": "https://localhost:8080/"
        },
        "id": "3bRSCEOTLAbV",
        "outputId": "a044ea91-51c7-45af-dda2-986cb1851f9e"
      },
      "execution_count": null,
      "outputs": [
        {
          "output_type": "stream",
          "name": "stdout",
          "text": [
            "[' Shriyaash 21', 'Sakshi 21']\n"
          ]
        }
      ]
    },
    {
      "cell_type": "markdown",
      "source": [
        "Tuple Data Type"
      ],
      "metadata": {
        "id": "p_xeTxj2gPl0"
      }
    },
    {
      "cell_type": "code",
      "source": [
        "my_tuple= (1, 2, 3)\n",
        "print (type (my_tuple))"
      ],
      "metadata": {
        "colab": {
          "base_uri": "https://localhost:8080/"
        },
        "id": "q5ysfgRRdFxU",
        "outputId": "ceae3a6b-e6f2-41bf-fdf5-93c933a865ac"
      },
      "execution_count": null,
      "outputs": [
        {
          "output_type": "stream",
          "name": "stdout",
          "text": [
            "<class 'tuple'>\n"
          ]
        }
      ]
    },
    {
      "cell_type": "markdown",
      "source": [
        "Dictionary Data Type\n"
      ],
      "metadata": {
        "id": "tgmjjvpVgMZJ"
      }
    },
    {
      "cell_type": "code",
      "source": [
        "shriyash = { \"Home\": \"Prayagraj\" , \"Works\" : \"BNB Chain\" , \"Learning\" : \"Data Science\" , \"Age\" : 23 }\n",
        "shriyash [\"Home\" ]"
      ],
      "metadata": {
        "colab": {
          "base_uri": "https://localhost:8080/",
          "height": 35
        },
        "id": "qiMKO2sKdVKC",
        "outputId": "dec93f19-1bcd-4646-e983-88558b5ca13b"
      },
      "execution_count": null,
      "outputs": [
        {
          "output_type": "execute_result",
          "data": {
            "text/plain": [
              "'Prayagraj'"
            ],
            "application/vnd.google.colaboratory.intrinsic+json": {
              "type": "string"
            }
          },
          "metadata": {},
          "execution_count": 12
        }
      ]
    },
    {
      "cell_type": "code",
      "source": [],
      "metadata": {
        "id": "pXRER4gzfo8C"
      },
      "execution_count": null,
      "outputs": []
    }
  ]
}