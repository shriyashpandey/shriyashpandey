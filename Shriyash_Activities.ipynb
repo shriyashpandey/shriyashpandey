{
  "nbformat": 4,
  "nbformat_minor": 0,
  "metadata": {
    "colab": {
      "provenance": [],
      "authorship_tag": "ABX9TyMQ3mDcNg25NoCZw8RK3AJt",
      "include_colab_link": true
    },
    "kernelspec": {
      "name": "python3",
      "display_name": "Python 3"
    },
    "language_info": {
      "name": "python"
    }
  },
  "cells": [
    {
      "cell_type": "markdown",
      "metadata": {
        "id": "view-in-github",
        "colab_type": "text"
      },
      "source": [
        "<a href=\"https://colab.research.google.com/github/shriyashpandey/shriyashpandey/blob/main/Shriyash_Activities.ipynb\" target=\"_parent\"><img src=\"https://colab.research.google.com/assets/colab-badge.svg\" alt=\"Open In Colab\"/></a>"
      ]
    },
    {
      "cell_type": "markdown",
      "source": [
        "Activity 1 [ Simple Airthmetic operaations ]"
      ],
      "metadata": {
        "id": "XTfKs6PViT2b"
      }
    },
    {
      "cell_type": "code",
      "source": [
        "win = 3 ;\n",
        "loss = 0 ;\n",
        "draw = 1 ;\n",
        "\n",
        "london_points = ( 6* win) + ( 2 * loss) + (1 * draw)\n",
        "london_points"
      ],
      "metadata": {
        "colab": {
          "base_uri": "https://localhost:8080/"
        },
        "id": "boy5Vo_Dc8Kz",
        "outputId": "6915f99b-d8db-46b5-9ee9-347c91f1a132"
      },
      "execution_count": 2,
      "outputs": [
        {
          "output_type": "execute_result",
          "data": {
            "text/plain": [
              "19"
            ]
          },
          "metadata": {},
          "execution_count": 2
        }
      ]
    },
    {
      "cell_type": "code",
      "source": [
        "2 == 2 ;\n",
        "print (2 == 2)\n"
      ],
      "metadata": {
        "colab": {
          "base_uri": "https://localhost:8080/"
        },
        "id": "qIxPhcxzho7j",
        "outputId": "ad220a92-53c4-4270-a6c9-1f842d6b6e76"
      },
      "execution_count": 3,
      "outputs": [
        {
          "output_type": "stream",
          "name": "stdout",
          "text": [
            "True\n"
          ]
        }
      ]
    },
    {
      "cell_type": "markdown",
      "source": [
        "Activity 2 [ Finding Percentage ]"
      ],
      "metadata": {
        "id": "QTdvc1yIibrr"
      }
    },
    {
      "cell_type": "code",
      "source": [
        "total_weight = 130\n",
        "raisins = 50\n",
        "almonds = 60\n",
        "apricots = 20\n",
        "raisins_percent = (50 / (total_weight))*100\n",
        "raisins_percent\n"
      ],
      "metadata": {
        "colab": {
          "base_uri": "https://localhost:8080/"
        },
        "id": "7qP05vyAh9ai",
        "outputId": "7776ac74-f848-4c30-d423-5d2a42f7020d"
      },
      "execution_count": 4,
      "outputs": [
        {
          "output_type": "execute_result",
          "data": {
            "text/plain": [
              "38.46153846153847"
            ]
          },
          "metadata": {},
          "execution_count": 4
        }
      ]
    },
    {
      "cell_type": "markdown",
      "source": [
        "Some random practice of arithmetic operators\n"
      ],
      "metadata": {
        "id": "iCRzxgwAjnbF"
      }
    },
    {
      "cell_type": "code",
      "source": [
        "print ( \" HW\")"
      ],
      "metadata": {
        "id": "BIA-65FJjUgh",
        "colab": {
          "base_uri": "https://localhost:8080/"
        },
        "outputId": "5f62d69f-0732-40f7-b40d-7784a4d638f3"
      },
      "execution_count": 5,
      "outputs": [
        {
          "output_type": "stream",
          "name": "stdout",
          "text": [
            " HW\n"
          ]
        }
      ]
    },
    {
      "cell_type": "code",
      "source": [
        "print (2 + 3+ 4 + 5 +8 )"
      ],
      "metadata": {
        "colab": {
          "base_uri": "https://localhost:8080/"
        },
        "id": "zcSKPVQB45l4",
        "outputId": "b2af32d0-aa7c-4f0d-a8e7-2e50e5222319"
      },
      "execution_count": 6,
      "outputs": [
        {
          "output_type": "stream",
          "name": "stdout",
          "text": [
            "22\n"
          ]
        }
      ]
    },
    {
      "cell_type": "code",
      "source": [
        "3 == 4"
      ],
      "metadata": {
        "colab": {
          "base_uri": "https://localhost:8080/"
        },
        "id": "aWc_aH865FL1",
        "outputId": "646afe50-214c-4111-d0a3-71904dea6b7e"
      },
      "execution_count": 7,
      "outputs": [
        {
          "output_type": "execute_result",
          "data": {
            "text/plain": [
              "False"
            ]
          },
          "metadata": {},
          "execution_count": 7
        }
      ]
    },
    {
      "cell_type": "code",
      "source": [
        "a = 4 ;\n",
        "d = 2 ;\n",
        "w = 23;\n",
        "\n",
        "print ( a> d)"
      ],
      "metadata": {
        "colab": {
          "base_uri": "https://localhost:8080/"
        },
        "id": "B_maegM15OaS",
        "outputId": "d9ceeeb9-5d11-47d8-de34-1922d81092fe"
      },
      "execution_count": 8,
      "outputs": [
        {
          "output_type": "stream",
          "name": "stdout",
          "text": [
            "True\n"
          ]
        }
      ]
    },
    {
      "cell_type": "code",
      "source": [
        "print ( \"Hello World\" )"
      ],
      "metadata": {
        "colab": {
          "base_uri": "https://localhost:8080/"
        },
        "id": "cW13V1Lc5aNp",
        "outputId": "feb0af57-6ad6-400c-d16d-25b0f4ea10dd"
      },
      "execution_count": 9,
      "outputs": [
        {
          "output_type": "stream",
          "name": "stdout",
          "text": [
            "Hello World\n"
          ]
        }
      ]
    },
    {
      "cell_type": "code",
      "source": [
        "10E10"
      ],
      "metadata": {
        "colab": {
          "base_uri": "https://localhost:8080/"
        },
        "id": "cfzmNhNJcXuQ",
        "outputId": "cec71839-3346-4baa-fdb7-631d8fd5ffa0"
      },
      "execution_count": 10,
      "outputs": [
        {
          "output_type": "execute_result",
          "data": {
            "text/plain": [
              "100000000000.0"
            ]
          },
          "metadata": {},
          "execution_count": 10
        }
      ]
    },
    {
      "cell_type": "code",
      "source": [
        "4E2"
      ],
      "metadata": {
        "colab": {
          "base_uri": "https://localhost:8080/"
        },
        "id": "nKP1LhU7fdW4",
        "outputId": "ebde261b-0d2f-4936-fb23-e09e75b54ee8"
      },
      "execution_count": 11,
      "outputs": [
        {
          "output_type": "execute_result",
          "data": {
            "text/plain": [
              "400.0"
            ]
          },
          "metadata": {},
          "execution_count": 11
        }
      ]
    },
    {
      "cell_type": "code",
      "source": [
        "3E2+2 # E represents 10 i.e. EX represents 10 to the power X , 4E10 means 4 into 10 to the power 10"
      ],
      "metadata": {
        "colab": {
          "base_uri": "https://localhost:8080/"
        },
        "id": "RkmjnMstff3X",
        "outputId": "bfd02bde-3452-469d-bb13-04201ce6ac85"
      },
      "execution_count": 12,
      "outputs": [
        {
          "output_type": "execute_result",
          "data": {
            "text/plain": [
              "302.0"
            ]
          },
          "metadata": {},
          "execution_count": 12
        }
      ]
    },
    {
      "cell_type": "code",
      "source": [
        "12*2-4**2+5-2"
      ],
      "metadata": {
        "colab": {
          "base_uri": "https://localhost:8080/"
        },
        "id": "_n1eKa-gfk3s",
        "outputId": "95e48ccf-57f0-4631-b92f-e76d7c9bd372"
      },
      "execution_count": 13,
      "outputs": [
        {
          "output_type": "execute_result",
          "data": {
            "text/plain": [
              "11"
            ]
          },
          "metadata": {},
          "execution_count": 13
        }
      ]
    },
    {
      "cell_type": "code",
      "source": [
        "(2+3+8+2) %2 #modulo % operator that gives our remainder"
      ],
      "metadata": {
        "colab": {
          "base_uri": "https://localhost:8080/"
        },
        "id": "3Av1louUh-Yj",
        "outputId": "66236b61-fcea-4d05-b6b4-da4efa91b098"
      },
      "execution_count": 14,
      "outputs": [
        {
          "output_type": "execute_result",
          "data": {
            "text/plain": [
              "1"
            ]
          },
          "metadata": {},
          "execution_count": 14
        }
      ]
    },
    {
      "cell_type": "code",
      "source": [
        "3//2 # // this basically floors the answer which means 3/2 is 1.5 and the floor of 1.5 is 1."
      ],
      "metadata": {
        "colab": {
          "base_uri": "https://localhost:8080/"
        },
        "id": "8kz9ePevi_BV",
        "outputId": "861225f3-77ba-4c6d-dcf4-5163a792e27f"
      },
      "execution_count": 15,
      "outputs": [
        {
          "output_type": "execute_result",
          "data": {
            "text/plain": [
              "1"
            ]
          },
          "metadata": {},
          "execution_count": 15
        }
      ]
    },
    {
      "cell_type": "code",
      "source": [
        "x = 4;\n",
        "y = 5;\n",
        "z = 43;\n",
        "\n",
        "print ( type (x)) # type() function is used to check the type of a varuable\n",
        "\n",
        "\n"
      ],
      "metadata": {
        "id": "7J8qRVxHjcDE",
        "colab": {
          "base_uri": "https://localhost:8080/"
        },
        "outputId": "023a4a95-ae71-46ce-b360-7fdba19e3138"
      },
      "execution_count": 16,
      "outputs": [
        {
          "output_type": "stream",
          "name": "stdout",
          "text": [
            "<class 'int'>\n"
          ]
        }
      ]
    },
    {
      "cell_type": "code",
      "source": [
        "x = 4\n",
        "y = 3\n",
        "z = 1\n",
        "a = x+y+z\n",
        "print (a)\n",
        "print (type (a))"
      ],
      "metadata": {
        "colab": {
          "base_uri": "https://localhost:8080/"
        },
        "id": "aV12egBGo1zb",
        "outputId": "8233d548-26f5-4e63-b18b-82719c24098e"
      },
      "execution_count": 17,
      "outputs": [
        {
          "output_type": "stream",
          "name": "stdout",
          "text": [
            "8\n",
            "<class 'int'>\n"
          ]
        }
      ]
    },
    {
      "cell_type": "code",
      "source": [
        "x == y"
      ],
      "metadata": {
        "colab": {
          "base_uri": "https://localhost:8080/"
        },
        "id": "D2iaRGithtLk",
        "outputId": "bf4a3d81-d173-4dd5-820a-134c11784e09"
      },
      "execution_count": 18,
      "outputs": [
        {
          "output_type": "execute_result",
          "data": {
            "text/plain": [
              "False"
            ]
          },
          "metadata": {},
          "execution_count": 18
        }
      ]
    },
    {
      "cell_type": "code",
      "source": [
        "x = y"
      ],
      "metadata": {
        "id": "1-5L6c4IlDSa"
      },
      "execution_count": 19,
      "outputs": []
    },
    {
      "cell_type": "code",
      "source": [
        "x == y"
      ],
      "metadata": {
        "colab": {
          "base_uri": "https://localhost:8080/"
        },
        "id": "jLW6a8T-lF5h",
        "outputId": "1cfde8bd-9e69-4776-9de2-d15c5b66f135"
      },
      "execution_count": 20,
      "outputs": [
        {
          "output_type": "execute_result",
          "data": {
            "text/plain": [
              "True"
            ]
          },
          "metadata": {},
          "execution_count": 20
        }
      ]
    },
    {
      "cell_type": "code",
      "source": [
        "x != y"
      ],
      "metadata": {
        "colab": {
          "base_uri": "https://localhost:8080/"
        },
        "id": "o7QK_J5XlIfO",
        "outputId": "50f77beb-1d9b-40bc-b223-61079f4f99f4"
      },
      "execution_count": 21,
      "outputs": [
        {
          "output_type": "execute_result",
          "data": {
            "text/plain": [
              "False"
            ]
          },
          "metadata": {},
          "execution_count": 21
        }
      ]
    },
    {
      "cell_type": "code",
      "source": [
        "a = (288**28*20E10)/44//2\n",
        "b = 10//3\n",
        "print (b)\n",
        "print (a)\n",
        "type (a)\n"
      ],
      "metadata": {
        "colab": {
          "base_uri": "https://localhost:8080/"
        },
        "id": "LYfdi2rZlOSx",
        "outputId": "8ab86de2-0184-4404-9c59-60c8fbf54b91"
      },
      "execution_count": 22,
      "outputs": [
        {
          "output_type": "stream",
          "name": "stdout",
          "text": [
            "3\n",
            "1.6578184963632496e+78\n"
          ]
        },
        {
          "output_type": "execute_result",
          "data": {
            "text/plain": [
              "float"
            ]
          },
          "metadata": {},
          "execution_count": 22
        }
      ]
    },
    {
      "cell_type": "code",
      "source": [
        "2 == 8"
      ],
      "metadata": {
        "colab": {
          "base_uri": "https://localhost:8080/"
        },
        "id": "SdSnHeLvn9W7",
        "outputId": "5a3f25a0-dc48-4802-b337-3f5193a0832e"
      },
      "execution_count": 23,
      "outputs": [
        {
          "output_type": "execute_result",
          "data": {
            "text/plain": [
              "False"
            ]
          },
          "metadata": {},
          "execution_count": 23
        }
      ]
    },
    {
      "cell_type": "code",
      "source": [
        "x = 545\n",
        "fx = x**2+ 3*x -4\n",
        "print (fx)\n",
        "\n"
      ],
      "metadata": {
        "colab": {
          "base_uri": "https://localhost:8080/"
        },
        "id": "trrgZKpLofu8",
        "outputId": "4fc45bcd-c37a-41f0-8baf-7eccf468687f"
      },
      "execution_count": 24,
      "outputs": [
        {
          "output_type": "stream",
          "name": "stdout",
          "text": [
            "298656\n"
          ]
        }
      ]
    },
    {
      "cell_type": "markdown",
      "source": [
        "About Strings"
      ],
      "metadata": {
        "id": "kSi2Qm-mB9dX"
      }
    },
    {
      "cell_type": "code",
      "source": [
        "my_first_string = \" hello world of data science \"\n",
        "print (my_first_string)\n",
        "print (type(my_first_string))"
      ],
      "metadata": {
        "colab": {
          "base_uri": "https://localhost:8080/"
        },
        "id": "fy2hVXL69Gjh",
        "outputId": "ae3e10b2-909d-4cd3-8e75-9127a7ad086d"
      },
      "execution_count": 25,
      "outputs": [
        {
          "output_type": "stream",
          "name": "stdout",
          "text": [
            " hello world of data science \n",
            "<class 'str'>\n"
          ]
        }
      ]
    },
    {
      "cell_type": "code",
      "source": [
        "new_message =  \"Hello, It's great you are learning about data data science, you will be successfull, keep working\"\n",
        "\n",
        "\n",
        "print(len(\" Hello, It's great you are learning about data data science, you will be successfull, keep working\"\n",
        "\n",
        "   ))\n",
        "new_message.count(\"\")"
      ],
      "metadata": {
        "colab": {
          "base_uri": "https://localhost:8080/"
        },
        "id": "bIu7ivkEA5gK",
        "outputId": "86286193-cbf5-4b30-af9c-077e1368fc62"
      },
      "execution_count": 26,
      "outputs": [
        {
          "output_type": "stream",
          "name": "stdout",
          "text": [
            "98\n"
          ]
        },
        {
          "output_type": "execute_result",
          "data": {
            "text/plain": [
              "98"
            ]
          },
          "metadata": {},
          "execution_count": 26
        }
      ]
    },
    {
      "cell_type": "code",
      "source": [
        "data_science = [20,21,212,44 ]\n",
        "data_science [3]"
      ],
      "metadata": {
        "colab": {
          "base_uri": "https://localhost:8080/"
        },
        "id": "BU3HjdBLDsi1",
        "outputId": "ae2112f3-ede6-413b-fc2b-f0f15bd8b9c8"
      },
      "execution_count": 27,
      "outputs": [
        {
          "output_type": "execute_result",
          "data": {
            "text/plain": [
              "44"
            ]
          },
          "metadata": {},
          "execution_count": 27
        }
      ]
    },
    {
      "cell_type": "code",
      "source": [
        "my_list = [ \" Shriyash 21\" , \"Sakshi 21\"]\n",
        "my_list[ 1] = \" Saakshi 21\"\n",
        "print (my_list)"
      ],
      "metadata": {
        "colab": {
          "base_uri": "https://localhost:8080/"
        },
        "id": "PlxRQTOOKMuL",
        "outputId": "d2b41689-c53a-47de-ef0e-e0a5f5037819"
      },
      "execution_count": 28,
      "outputs": [
        {
          "output_type": "stream",
          "name": "stdout",
          "text": [
            "[' Shriyash 21', ' Saakshi 21']\n"
          ]
        }
      ]
    },
    {
      "cell_type": "markdown",
      "source": [
        "List Data Type"
      ],
      "metadata": {
        "id": "dTEr1cNAgTLQ"
      }
    },
    {
      "cell_type": "code",
      "source": [
        "my_second_list = [\"Shriyash 21\" , \"Sakshi 21\"]\n",
        "my_second_list [0] = \" Shriyaash 21\"\n",
        "print (my_second_list )"
      ],
      "metadata": {
        "colab": {
          "base_uri": "https://localhost:8080/"
        },
        "id": "3bRSCEOTLAbV",
        "outputId": "b20ebc41-b298-4a8f-c209-6a3bb7a942b1"
      },
      "execution_count": 29,
      "outputs": [
        {
          "output_type": "stream",
          "name": "stdout",
          "text": [
            "[' Shriyaash 21', 'Sakshi 21']\n"
          ]
        }
      ]
    },
    {
      "cell_type": "markdown",
      "source": [
        "Tuple Data Type"
      ],
      "metadata": {
        "id": "p_xeTxj2gPl0"
      }
    },
    {
      "cell_type": "code",
      "source": [
        "my_tuple= (1, 2, 3)\n",
        "print (type (my_tuple))"
      ],
      "metadata": {
        "colab": {
          "base_uri": "https://localhost:8080/"
        },
        "id": "q5ysfgRRdFxU",
        "outputId": "237d9353-69b7-4b65-e986-9240bfc36309"
      },
      "execution_count": 30,
      "outputs": [
        {
          "output_type": "stream",
          "name": "stdout",
          "text": [
            "<class 'tuple'>\n"
          ]
        }
      ]
    },
    {
      "cell_type": "markdown",
      "source": [
        "Dictionary Data Type\n"
      ],
      "metadata": {
        "id": "tgmjjvpVgMZJ"
      }
    },
    {
      "cell_type": "code",
      "source": [
        "shriyash = { \"Home\": \"Prayagraj\" , \"Works\" : \"BNB Chain\" , \"Learning\" : \"Data Science\" , \"Age\" : 23 }\n",
        "shriyash [\"Home\" ]"
      ],
      "metadata": {
        "colab": {
          "base_uri": "https://localhost:8080/",
          "height": 35
        },
        "id": "qiMKO2sKdVKC",
        "outputId": "d07e46d7-0564-43fb-8c16-a512f115cd01"
      },
      "execution_count": 31,
      "outputs": [
        {
          "output_type": "execute_result",
          "data": {
            "text/plain": [
              "'Prayagraj'"
            ],
            "application/vnd.google.colaboratory.intrinsic+json": {
              "type": "string"
            }
          },
          "metadata": {},
          "execution_count": 31
        }
      ]
    },
    {
      "cell_type": "code",
      "source": [
        "type (shriyash [\"Home\" ])"
      ],
      "metadata": {
        "colab": {
          "base_uri": "https://localhost:8080/"
        },
        "id": "pXRER4gzfo8C",
        "outputId": "76cdd518-8aa8-4bdb-cdc0-61f49c17eb08"
      },
      "execution_count": 32,
      "outputs": [
        {
          "output_type": "execute_result",
          "data": {
            "text/plain": [
              "str"
            ]
          },
          "metadata": {},
          "execution_count": 32
        }
      ]
    },
    {
      "cell_type": "code",
      "source": [
        "shriyash [ \"Works\"] = \" Arbitrum\"\n",
        "print (shriyash [\"Works\"])"
      ],
      "metadata": {
        "colab": {
          "base_uri": "https://localhost:8080/"
        },
        "id": "n6VdKWvThLNl",
        "outputId": "68708d72-4aea-4388-bf72-5cc31773a387"
      },
      "execution_count": 33,
      "outputs": [
        {
          "output_type": "stream",
          "name": "stdout",
          "text": [
            " Arbitrum\n"
          ]
        }
      ]
    },
    {
      "cell_type": "code",
      "source": [
        "string_test = 'Hello Python' ' Hello Shriyash'\n",
        "print (string_test)"
      ],
      "metadata": {
        "colab": {
          "base_uri": "https://localhost:8080/"
        },
        "id": "tRndRtrzh_RM",
        "outputId": "fc89298b-8fb8-4f19-8b79-631a395aec7e"
      },
      "execution_count": 34,
      "outputs": [
        {
          "output_type": "stream",
          "name": "stdout",
          "text": [
            "Hello Python Hello Shriyash\n"
          ]
        }
      ]
    },
    {
      "cell_type": "code",
      "source": [
        "backslash_check = 'Hello \\' Ladies '\n",
        "backslash_check"
      ],
      "metadata": {
        "colab": {
          "base_uri": "https://localhost:8080/",
          "height": 35
        },
        "id": "-OL9vbGZ_pvo",
        "outputId": "505ac49d-53fc-4ac0-c4fa-6a54da3bcab7"
      },
      "execution_count": 35,
      "outputs": [
        {
          "output_type": "execute_result",
          "data": {
            "text/plain": [
              "\"Hello ' Ladies \""
            ],
            "application/vnd.google.colaboratory.intrinsic+json": {
              "type": "string"
            }
          },
          "metadata": {},
          "execution_count": 35
        }
      ]
    },
    {
      "cell_type": "code",
      "source": [
        "Enter_Name = input (\"\")\n",
        "Enter_Age = input (\"\")\n",
        "print (Enter_Name , Enter_Age)\n",
        "print(type(Enter_Age))"
      ],
      "metadata": {
        "colab": {
          "base_uri": "https://localhost:8080/"
        },
        "id": "4IF8KoXYCS_i",
        "outputId": "24a8d80b-db62-4748-f7ba-1d846b9a636b"
      },
      "execution_count": 36,
      "outputs": [
        {
          "output_type": "stream",
          "name": "stdout",
          "text": [
            "Shriyash\n",
            "23\n",
            "Shriyash 23\n",
            "<class 'str'>\n"
          ]
        }
      ]
    },
    {
      "cell_type": "code",
      "source": [
        "len(\"my_second_list\")"
      ],
      "metadata": {
        "colab": {
          "base_uri": "https://localhost:8080/"
        },
        "id": "pEb05zDpIhkt",
        "outputId": "8012f945-540f-4698-f7fb-f04b6afa9c5a"
      },
      "execution_count": 37,
      "outputs": [
        {
          "output_type": "execute_result",
          "data": {
            "text/plain": [
              "14"
            ]
          },
          "metadata": {},
          "execution_count": 37
        }
      ]
    },
    {
      "cell_type": "code",
      "source": [
        "n1 = int(input())\n",
        "n2 = int(input())\n",
        "n3 = 20\n",
        "if n1 + n2  == 15 :\n",
        "  print (n3)\n",
        "elif n1 == n2  :\n",
        "  print (\"Great n1 is equal n2\")\n",
        "else :\n",
        "  print (\"WTF\")\n",
        "\n",
        "\n"
      ],
      "metadata": {
        "colab": {
          "base_uri": "https://localhost:8080/"
        },
        "id": "bBZcNa0OLvZh",
        "outputId": "f4e46d4a-157d-466c-f661-3339d6a83899"
      },
      "execution_count": 38,
      "outputs": [
        {
          "output_type": "stream",
          "name": "stdout",
          "text": [
            "3\n",
            "2\n",
            "WTF\n"
          ]
        }
      ]
    },
    {
      "cell_type": "code",
      "source": [
        "my_first_set = { \"Hello\" , 44 , 4432 }\n",
        "print(type(my_first_set))\n",
        "\n"
      ],
      "metadata": {
        "colab": {
          "base_uri": "https://localhost:8080/"
        },
        "id": "-XTUodCIfsA8",
        "outputId": "d7c9b391-c276-49fa-9775-846770c3555c"
      },
      "execution_count": 39,
      "outputs": [
        {
          "output_type": "stream",
          "name": "stdout",
          "text": [
            "<class 'set'>\n"
          ]
        }
      ]
    },
    {
      "cell_type": "code",
      "source": [
        "test_dict = { \" Name \" : \" Shriyash\" , \" Fun\" : [ \"Baseball\" , \"Cricket \", \" Money\"] , 69 : 96}\n",
        "test_dict.keys()\n",
        "test_dict.values()\n"
      ],
      "metadata": {
        "colab": {
          "base_uri": "https://localhost:8080/"
        },
        "id": "3yTCRzvfiUoI",
        "outputId": "9fbdb285-0ccf-44c7-cf9e-38652ebb0153"
      },
      "execution_count": 40,
      "outputs": [
        {
          "output_type": "execute_result",
          "data": {
            "text/plain": [
              "dict_values([' Shriyash', ['Baseball', 'Cricket ', ' Money'], 96])"
            ]
          },
          "metadata": {},
          "execution_count": 40
        }
      ]
    },
    {
      "cell_type": "code",
      "source": [
        "def count_characters(string):\n",
        "    char_frequency = {}\n",
        "\n",
        "    for char in string:\n",
        "        if char in char_frequency:\n",
        "            char_frequency[char] += 1\n",
        "        else:\n",
        "            char_frequency[char] = 1\n",
        "\n",
        "    return char_frequency\n",
        "\n",
        "input_string = input(\"Enter a string: \")\n",
        "character_count = count_characters(input_string)\n",
        "\n",
        "print(\"Character frequency:\")\n",
        "for char, count in character_count.items():\n",
        "    print(f\"'{char}': {count}\")\n",
        "\n"
      ],
      "metadata": {
        "colab": {
          "base_uri": "https://localhost:8080/"
        },
        "id": "E7opV9QdhrGj",
        "outputId": "8d294e6b-7dba-45a4-d243-2e90687da809"
      },
      "execution_count": 41,
      "outputs": [
        {
          "output_type": "stream",
          "name": "stdout",
          "text": [
            "Enter a string: Hello\n",
            "Character frequency:\n",
            "'H': 1\n",
            "'e': 1\n",
            "'l': 2\n",
            "'o': 1\n"
          ]
        }
      ]
    },
    {
      "cell_type": "code",
      "source": [
        "float_num = float (input())\n",
        "output = float_num//2\n",
        "print(output)"
      ],
      "metadata": {
        "colab": {
          "base_uri": "https://localhost:8080/"
        },
        "id": "q9kiM413mbuT",
        "outputId": "be5703d3-c15e-4680-aec0-332e8131fe14"
      },
      "execution_count": 42,
      "outputs": [
        {
          "output_type": "stream",
          "name": "stdout",
          "text": [
            "23\n",
            "11.0\n"
          ]
        }
      ]
    },
    {
      "cell_type": "code",
      "source": [
        "n1 = float(input())\n",
        "n2 = int(input())\n",
        "print(round(n1, n2))\n"
      ],
      "metadata": {
        "colab": {
          "base_uri": "https://localhost:8080/"
        },
        "id": "Uh8Rjwh_oSpD",
        "outputId": "05ec2d20-28e0-4cd2-fed9-c8356ab787da"
      },
      "execution_count": 43,
      "outputs": [
        {
          "output_type": "stream",
          "name": "stdout",
          "text": [
            "12\n",
            "23\n",
            "12.0\n"
          ]
        }
      ]
    },
    {
      "cell_type": "code",
      "source": [
        "x = float(input())\n",
        "print (round (x , 2))"
      ],
      "metadata": {
        "colab": {
          "base_uri": "https://localhost:8080/"
        },
        "id": "AJoF-elvo8bD",
        "outputId": "cc18847d-1752-4c75-9c9b-e58a3c2a19bb"
      },
      "execution_count": 44,
      "outputs": [
        {
          "output_type": "stream",
          "name": "stdout",
          "text": [
            "1\n",
            "1.0\n"
          ]
        }
      ]
    },
    {
      "cell_type": "code",
      "source": [
        "float_num = float (input())\n",
        "dec_place = int (input ())\n",
        "output_res = round ( float_num , dec_place)\n",
        "print (output_res)\n"
      ],
      "metadata": {
        "colab": {
          "base_uri": "https://localhost:8080/"
        },
        "id": "otkMWgCjpWeD",
        "outputId": "1945331a-1f8c-4b8f-aa8e-5d6173be68c8"
      },
      "execution_count": 45,
      "outputs": [
        {
          "output_type": "stream",
          "name": "stdout",
          "text": [
            "3\n",
            "3\n",
            "3.0\n"
          ]
        }
      ]
    },
    {
      "cell_type": "code",
      "source": [
        "enter_num = int(input())\n",
        "if  enter_num/2 == float ():\n",
        "     print ( \" This is an odd number\")\n",
        "else :\n",
        "    print ( \" This is an even number\")"
      ],
      "metadata": {
        "colab": {
          "base_uri": "https://localhost:8080/"
        },
        "id": "S8qf2jmTp20j",
        "outputId": "21be4e29-a9a6-4ace-b536-299537b6f50f"
      },
      "execution_count": 47,
      "outputs": [
        {
          "output_type": "stream",
          "name": "stdout",
          "text": [
            "22\n",
            " This is an even number\n"
          ]
        }
      ]
    },
    {
      "cell_type": "code",
      "source": [
        "enter_num = int(input())\n",
        "if  enter_num/2 == float ():\n",
        "     print ( \" This is an odd number\")\n",
        "else :\n",
        "    print ( \" This is an even number\")"
      ],
      "metadata": {
        "colab": {
          "base_uri": "https://localhost:8080/"
        },
        "id": "gsWDE1M_q146",
        "outputId": "b530c715-d6f2-4820-fe25-245999a710fe"
      },
      "execution_count": 48,
      "outputs": [
        {
          "output_type": "stream",
          "name": "stdout",
          "text": [
            "22\n",
            " This is an even number\n"
          ]
        }
      ]
    },
    {
      "cell_type": "code",
      "source": [
        "10%2"
      ],
      "metadata": {
        "colab": {
          "base_uri": "https://localhost:8080/"
        },
        "id": "wQomIjnwrHgW",
        "outputId": "ef45c480-3831-4c21-b6dc-ab2ad856d114"
      },
      "execution_count": 49,
      "outputs": [
        {
          "output_type": "execute_result",
          "data": {
            "text/plain": [
              "0"
            ]
          },
          "metadata": {},
          "execution_count": 49
        }
      ]
    },
    {
      "cell_type": "code",
      "source": [
        "enter_num = int(input())\n",
        "mod_num = enter_num % 2\n",
        "if  mod_num > 0 :\n",
        "  print ( \" This is an odd number\")\n",
        "else :\n",
        "  print ( \" This is an even number\")"
      ],
      "metadata": {
        "colab": {
          "base_uri": "https://localhost:8080/"
        },
        "id": "eyXb0t2Jr7zT",
        "outputId": "be8190af-2c8f-4011-c27a-d3397cc5f688"
      },
      "execution_count": 50,
      "outputs": [
        {
          "output_type": "stream",
          "name": "stdout",
          "text": [
            "22\n",
            " This is an even number\n"
          ]
        }
      ]
    },
    {
      "cell_type": "code",
      "source": [
        "int_one = int ( input ())\n",
        "int_two = int (input ())\n",
        "sum_int = int_one + int_two\n",
        "\n",
        "if int_one + int_two > 80 :\n",
        "    print (\"Overflow\")\n",
        "else :\n",
        "    print (sum_int)"
      ],
      "metadata": {
        "colab": {
          "base_uri": "https://localhost:8080/"
        },
        "id": "VP2Xtkh1sKUv",
        "outputId": "716e3790-442c-46fe-cd97-ac34d5bd270e"
      },
      "execution_count": 51,
      "outputs": [
        {
          "output_type": "stream",
          "name": "stdout",
          "text": [
            "21\n",
            "11\n",
            "32\n"
          ]
        }
      ]
    },
    {
      "cell_type": "code",
      "source": [
        "2E3\n"
      ],
      "metadata": {
        "colab": {
          "base_uri": "https://localhost:8080/"
        },
        "id": "UwMFFa4xtZwy",
        "outputId": "0d4ca2ce-1457-4bf7-ceb7-5a564d035007"
      },
      "execution_count": 52,
      "outputs": [
        {
          "output_type": "execute_result",
          "data": {
            "text/plain": [
              "2000.0"
            ]
          },
          "metadata": {},
          "execution_count": 52
        }
      ]
    },
    {
      "cell_type": "code",
      "source": [
        "2 * 10 ** 3"
      ],
      "metadata": {
        "colab": {
          "base_uri": "https://localhost:8080/"
        },
        "id": "rImgatwQuZ-g",
        "outputId": "08595ec9-0066-4018-bfcf-ad3baacc1d46"
      },
      "execution_count": 53,
      "outputs": [
        {
          "output_type": "execute_result",
          "data": {
            "text/plain": [
              "2000"
            ]
          },
          "metadata": {},
          "execution_count": 53
        }
      ]
    },
    {
      "cell_type": "markdown",
      "source": [
        "Activity - 1\n",
        "Solve the Riddle\n",
        "\n",
        "1. A number elusive, divisible by three, When divided by seven, the remainder is free. Represented by 'x', this enigmatic tale, Find the digits that make this riddle prevail.\n",
        "\n",
        "2. Quadratic quest, a challenge awaits, With 'a' and 'c', an equation creates. 'B' is unknown, yet to be found, Solve for 'b' to complete the battleground. The value of 'a' is 3, and 'c' is 10.\n"
      ],
      "metadata": {
        "id": "qXC6tDliH7Gb"
      }
    },
    {
      "cell_type": "code",
      "source": [
        "x = 45\n",
        "if x//3 == 15 and x%7 == 0 :\n",
        "  print ( \" We got the number\")\n",
        "else :\n",
        "  print (\" Try again\")\n"
      ],
      "metadata": {
        "colab": {
          "base_uri": "https://localhost:8080/"
        },
        "id": "TsQcHre4ueL-",
        "outputId": "5ba15ebc-1457-490b-a9ad-4a4b574c7f13"
      },
      "execution_count": 54,
      "outputs": [
        {
          "output_type": "stream",
          "name": "stdout",
          "text": [
            " Try again\n"
          ]
        }
      ]
    },
    {
      "cell_type": "code",
      "source": [
        "45//3"
      ],
      "metadata": {
        "colab": {
          "base_uri": "https://localhost:8080/"
        },
        "id": "YEmmCpWiJlra",
        "outputId": "9eb3adad-45e2-49de-a319-3cea684f6ef6"
      },
      "execution_count": 55,
      "outputs": [
        {
          "output_type": "execute_result",
          "data": {
            "text/plain": [
              "15"
            ]
          },
          "metadata": {},
          "execution_count": 55
        }
      ]
    },
    {
      "cell_type": "code",
      "source": [
        "45%7"
      ],
      "metadata": {
        "colab": {
          "base_uri": "https://localhost:8080/"
        },
        "id": "SSAu_p9CLNw3",
        "outputId": "dd47fa14-5cd0-4dad-9057-4c704bc6b112"
      },
      "execution_count": 56,
      "outputs": [
        {
          "output_type": "execute_result",
          "data": {
            "text/plain": [
              "3"
            ]
          },
          "metadata": {},
          "execution_count": 56
        }
      ]
    },
    {
      "cell_type": "code",
      "source": [
        "x = 45\n",
        "if x//3 == 15 and x%7 == 3 :\n",
        "  print ( \" We got the number\")\n",
        "else :\n",
        "  print (\" Try Again\")\n"
      ],
      "metadata": {
        "colab": {
          "base_uri": "https://localhost:8080/"
        },
        "id": "lbhGbCnJLQYN",
        "outputId": "c4e4404b-0d53-4e9c-da9b-d9294802a141"
      },
      "execution_count": 57,
      "outputs": [
        {
          "output_type": "stream",
          "name": "stdout",
          "text": [
            " We got the number\n"
          ]
        }
      ]
    },
    {
      "cell_type": "code",
      "source": [
        "  a = int(input())\n",
        "  b = int(input())\n",
        "  if a%2 == 0 and b%2 == 0:\n",
        "    print (\" Even Number\")\n",
        "  else :\n",
        "    print (\" Odd Number\")"
      ],
      "metadata": {
        "colab": {
          "base_uri": "https://localhost:8080/"
        },
        "id": "qlsNunHZLyS3",
        "outputId": "a86a377d-4564-4bd5-81a1-6a1f5580f075"
      },
      "execution_count": 58,
      "outputs": [
        {
          "output_type": "stream",
          "name": "stdout",
          "text": [
            "21\n",
            "21\n",
            " Odd Number\n"
          ]
        }
      ]
    },
    {
      "cell_type": "code",
      "source": [
        "\n",
        "10**80"
      ],
      "metadata": {
        "colab": {
          "base_uri": "https://localhost:8080/"
        },
        "id": "kU0TpSl6kA4u",
        "outputId": "844abac1-f1c9-441f-8e81-1df025647818"
      },
      "execution_count": 59,
      "outputs": [
        {
          "output_type": "execute_result",
          "data": {
            "text/plain": [
              "100000000000000000000000000000000000000000000000000000000000000000000000000000000"
            ]
          },
          "metadata": {},
          "execution_count": 59
        }
      ]
    },
    {
      "cell_type": "code",
      "source": [
        "4E10\n"
      ],
      "metadata": {
        "colab": {
          "base_uri": "https://localhost:8080/"
        },
        "id": "HKqmcjZElax7",
        "outputId": "709091e3-531e-4f95-9bf9-791a668a51c4"
      },
      "execution_count": 60,
      "outputs": [
        {
          "output_type": "execute_result",
          "data": {
            "text/plain": [
              "40000000000.0"
            ]
          },
          "metadata": {},
          "execution_count": 60
        }
      ]
    },
    {
      "cell_type": "code",
      "source": [
        "num = int(input())\n",
        "if num > 0:\n",
        "   print(\"It is positive number\")\n",
        "elif num == 0:\n",
        "   print(\"It is Zero\")\n",
        "else:\n",
        "   print(\"It is a negative number\")"
      ],
      "metadata": {
        "colab": {
          "base_uri": "https://localhost:8080/"
        },
        "id": "9225m9i0lg6y",
        "outputId": "ed9b5e3d-e862-4177-cd9f-01bd67cbc023"
      },
      "execution_count": 61,
      "outputs": [
        {
          "output_type": "stream",
          "name": "stdout",
          "text": [
            "21\n",
            "It is positive number\n"
          ]
        }
      ]
    },
    {
      "cell_type": "code",
      "source": [
        "sentence = \"Hello, world!\"\n",
        "\n",
        "# Replace \"world\" with \"Python\" using slice assignment\n",
        "sentence_chars = list(sentence)  # Convert the string to a list for slice assignment\n",
        "sentence_chars[7:12] = \"Python\"\n",
        "new_sentence = \"\".join(sentence_chars)\n",
        "print(new_sentence)  # Output: \"Hello, Python!\""
      ],
      "metadata": {
        "colab": {
          "base_uri": "https://localhost:8080/"
        },
        "id": "o_qyVKF3mYPG",
        "outputId": "d42f3dcb-4cdf-4566-d78c-1fa0a7bfa639"
      },
      "execution_count": 62,
      "outputs": [
        {
          "output_type": "stream",
          "name": "stdout",
          "text": [
            "Hello, Python!\n"
          ]
        }
      ]
    },
    {
      "cell_type": "code",
      "source": [
        "sentence = input () # String as immutable , so I can't change things directly\n",
        "chars_sentence = list(sentence) # Here I converted string to list\n",
        "chars_sentence[7:12 ] = \" Python\" # Here I changed the value from index position 7 to 12\n",
        "new_sentence = \"\".join(chars_sentence)# Here I created a new_sentence object and assigned it as chars_sentence\n",
        "print (chars_sentence)\n",
        "print (new_sentence)\n",
        "print (sentence)"
      ],
      "metadata": {
        "colab": {
          "base_uri": "https://localhost:8080/"
        },
        "id": "ROxzCMd1n8EO",
        "outputId": "b8805161-615a-46e6-e47b-527537d4913c"
      },
      "execution_count": 63,
      "outputs": [
        {
          "output_type": "stream",
          "name": "stdout",
          "text": [
            "21\n",
            "['2', '1', ' ', 'P', 'y', 't', 'h', 'o', 'n']\n",
            "21 Python\n",
            "21\n"
          ]
        }
      ]
    },
    {
      "cell_type": "code",
      "source": [
        "x = int(input())\n",
        "y = int(input())\n",
        "solution = (x+y)**2\n",
        "print(solution)"
      ],
      "metadata": {
        "colab": {
          "base_uri": "https://localhost:8080/"
        },
        "id": "x-SH74Z7q1id",
        "outputId": "7a907c5d-6e7a-4d2f-d877-c9f804b42f50"
      },
      "execution_count": 65,
      "outputs": [
        {
          "output_type": "stream",
          "name": "stdout",
          "text": [
            "2\n",
            "2\n",
            "16\n"
          ]
        }
      ]
    },
    {
      "cell_type": "code",
      "source": [
        "\n",
        "x = int(input())\n",
        "y = int(input())\n",
        "result = x * x + 2 * x * y + y * y\n",
        "print((result))"
      ],
      "metadata": {
        "colab": {
          "base_uri": "https://localhost:8080/"
        },
        "id": "mYz39XTLkDwU",
        "outputId": "fc4e0216-7562-4875-f439-a2a8bbb70363"
      },
      "execution_count": 66,
      "outputs": [
        {
          "output_type": "stream",
          "name": "stdout",
          "text": [
            "2\n",
            "2\n",
            "16\n"
          ]
        }
      ]
    },
    {
      "cell_type": "code",
      "source": [
        "test_string = input()\n",
        "print(len(test_string))\n"
      ],
      "metadata": {
        "colab": {
          "base_uri": "https://localhost:8080/"
        },
        "id": "eEHBiCcHkQX5",
        "outputId": "51f19d84-0498-4613-db13-ecdbdce8f316"
      },
      "execution_count": 67,
      "outputs": [
        {
          "output_type": "stream",
          "name": "stdout",
          "text": [
            "d\n",
            "1\n"
          ]
        }
      ]
    },
    {
      "cell_type": "code",
      "source": [
        "test_set = set(input())\n",
        "print(type(test_set))\n",
        "print (len (test_set))\n"
      ],
      "metadata": {
        "colab": {
          "base_uri": "https://localhost:8080/"
        },
        "id": "q8r7PddDmCwZ",
        "outputId": "f92c8340-3d83-49ca-9bf4-82b4d72e9808"
      },
      "execution_count": 68,
      "outputs": [
        {
          "output_type": "stream",
          "name": "stdout",
          "text": [
            "dn\n",
            "<class 'set'>\n",
            "2\n"
          ]
        }
      ]
    },
    {
      "cell_type": "code",
      "source": [
        "def find_length(sn):\n",
        "    return len(sn)\n",
        "\n",
        "sn = set(input().split(' '))\n",
        "print(find_length(sn))"
      ],
      "metadata": {
        "colab": {
          "base_uri": "https://localhost:8080/"
        },
        "id": "JK2WhcChmUkg",
        "outputId": "720849d5-535d-463f-dd5e-60bb4aaf07b7"
      },
      "execution_count": 69,
      "outputs": [
        {
          "output_type": "stream",
          "name": "stdout",
          "text": [
            "dsd\n",
            "1\n"
          ]
        }
      ]
    },
    {
      "cell_type": "code",
      "source": [
        "txt = \"welcome to the jungle\"\n",
        "\n",
        "x = txt.split()\n",
        "\n",
        "print(x)"
      ],
      "metadata": {
        "colab": {
          "base_uri": "https://localhost:8080/"
        },
        "id": "PufFwfPHnN6d",
        "outputId": "8de392b1-1f4f-4610-f2a7-0ce8c4968267"
      },
      "execution_count": 70,
      "outputs": [
        {
          "output_type": "stream",
          "name": "stdout",
          "text": [
            "['welcome', 'to', 'the', 'jungle']\n"
          ]
        }
      ]
    },
    {
      "cell_type": "code",
      "source": [
        "def find_length(xset):\n",
        "  return len(xset)\n",
        "\n",
        "xset = set(input().split(\" \"))\n",
        "print(find_length(xset))"
      ],
      "metadata": {
        "colab": {
          "base_uri": "https://localhost:8080/"
        },
        "id": "-kY4JSIvnyF9",
        "outputId": "cd1dc3ef-c023-4cd1-c078-af5be493e2f5"
      },
      "execution_count": 71,
      "outputs": [
        {
          "output_type": "stream",
          "name": "stdout",
          "text": [
            "sds\n",
            "1\n"
          ]
        }
      ]
    },
    {
      "cell_type": "code",
      "source": [
        "\n",
        "\n",
        "  xset = set(input().split(\" \"))\n",
        "  print(type(xset))"
      ],
      "metadata": {
        "colab": {
          "base_uri": "https://localhost:8080/"
        },
        "id": "gh4_kvtfojLN",
        "outputId": "9b65a3ba-1c5a-4f56-899f-49df51bce331"
      },
      "execution_count": 72,
      "outputs": [
        {
          "output_type": "stream",
          "name": "stdout",
          "text": [
            "cs\n",
            "<class 'set'>\n"
          ]
        }
      ]
    },
    {
      "cell_type": "code",
      "source": [
        "def find_length(sn):\n",
        "    return len(sn)\n",
        "\n",
        "sn = set(input().split(' '))\n",
        "print(find_length(sn))"
      ],
      "metadata": {
        "colab": {
          "base_uri": "https://localhost:8080/"
        },
        "id": "mIbNAyozouBd",
        "outputId": "ff211899-9a67-44df-e774-da90a8ab1789"
      },
      "execution_count": 73,
      "outputs": [
        {
          "output_type": "stream",
          "name": "stdout",
          "text": [
            "sxcs\n",
            "1\n"
          ]
        }
      ]
    },
    {
      "cell_type": "code",
      "source": [
        "def find_length(xset):\n",
        "  return len(xset)\n",
        "\n",
        "  xset = set(input().split(''))\n",
        "  print(find_length(xset))"
      ],
      "metadata": {
        "id": "MfbzRoVepdQA"
      },
      "execution_count": 74,
      "outputs": []
    },
    {
      "cell_type": "code",
      "source": [
        "def find_length(sn):\n",
        "    return len(sn)\n",
        "\n",
        "sn = set(input().split(' '))\n",
        "print(find_length(sn))"
      ],
      "metadata": {
        "colab": {
          "base_uri": "https://localhost:8080/"
        },
        "id": "C31ENi93p9mD",
        "outputId": "f637a8da-e9b2-489a-8bb5-e20a5d86e8df"
      },
      "execution_count": 75,
      "outputs": [
        {
          "output_type": "stream",
          "name": "stdout",
          "text": [
            "sds\n",
            "1\n"
          ]
        }
      ]
    },
    {
      "cell_type": "code",
      "source": [
        "def fl(inp) :\n",
        "  return len(inp)\n",
        "\n",
        "inp = input()\n",
        "print (fl(inp))\n",
        "\n"
      ],
      "metadata": {
        "colab": {
          "base_uri": "https://localhost:8080/"
        },
        "id": "FQoBl3GjqC6B",
        "outputId": "39cd46e2-06d2-42ca-b5ea-2d6f749e0fc0"
      },
      "execution_count": 76,
      "outputs": [
        {
          "output_type": "stream",
          "name": "stdout",
          "text": [
            "sdcsc\n",
            "5\n"
          ]
        }
      ]
    },
    {
      "cell_type": "code",
      "source": [
        "import this\n"
      ],
      "metadata": {
        "id": "ZC8byOlKNPi8"
      },
      "execution_count": 77,
      "outputs": []
    },
    {
      "cell_type": "code",
      "source": [],
      "metadata": {
        "id": "dfxvBkXYx4Oh"
      },
      "execution_count": 77,
      "outputs": []
    }
  ]
}