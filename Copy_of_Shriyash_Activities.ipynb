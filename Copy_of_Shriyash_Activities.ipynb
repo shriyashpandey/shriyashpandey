{
  "nbformat": 4,
  "nbformat_minor": 0,
  "metadata": {
    "colab": {
      "provenance": [],
      "authorship_tag": "ABX9TyNAdF4+pQxxczxSPMQ2xwiz",
      "include_colab_link": true
    },
    "kernelspec": {
      "name": "python3",
      "display_name": "Python 3"
    },
    "language_info": {
      "name": "python"
    }
  },
  "cells": [
    {
      "cell_type": "markdown",
      "metadata": {
        "id": "view-in-github",
        "colab_type": "text"
      },
      "source": [
        "<a href=\"https://colab.research.google.com/github/shriyashpandey/shriyashpandey/blob/main/Copy_of_Shriyash_Activities.ipynb\" target=\"_parent\"><img src=\"https://colab.research.google.com/assets/colab-badge.svg\" alt=\"Open In Colab\"/></a>"
      ]
    },
    {
      "cell_type": "markdown",
      "source": [
        "Activity 1 [ Simple Airthmetic operaations ]"
      ],
      "metadata": {
        "id": "XTfKs6PViT2b"
      }
    },
    {
      "cell_type": "code",
      "source": [
        "win = 3 ;\n",
        "loss = 0 ;\n",
        "draw = 1 ;\n",
        "\n",
        "london_points = ( 6* win) + ( 2 * loss) + (1 * draw)\n",
        "london_points"
      ],
      "metadata": {
        "colab": {
          "base_uri": "https://localhost:8080/"
        },
        "id": "boy5Vo_Dc8Kz",
        "outputId": "43479e37-5816-46b6-cd32-98136ed82d0c"
      },
      "execution_count": null,
      "outputs": [
        {
          "output_type": "execute_result",
          "data": {
            "text/plain": [
              "19"
            ]
          },
          "metadata": {},
          "execution_count": 7
        }
      ]
    },
    {
      "cell_type": "code",
      "source": [
        "2 == 2 ;\n",
        "print (2 == 2)\n"
      ],
      "metadata": {
        "colab": {
          "base_uri": "https://localhost:8080/"
        },
        "id": "qIxPhcxzho7j",
        "outputId": "75858f46-8fce-4c8f-f21b-785a7e8e4ac9"
      },
      "execution_count": null,
      "outputs": [
        {
          "output_type": "stream",
          "name": "stdout",
          "text": [
            "True\n"
          ]
        }
      ]
    },
    {
      "cell_type": "markdown",
      "source": [
        "Activity 2 [ Finding Percentage ]"
      ],
      "metadata": {
        "id": "QTdvc1yIibrr"
      }
    },
    {
      "cell_type": "code",
      "source": [
        "total_weight = 130\n",
        "raisins = 50\n",
        "almonds = 60\n",
        "apricots = 20\n",
        "raisins_percent = (50 / (total_weight))*100\n",
        "raisins_percent\n"
      ],
      "metadata": {
        "colab": {
          "base_uri": "https://localhost:8080/"
        },
        "id": "7qP05vyAh9ai",
        "outputId": "967980a3-2822-4b8a-eb31-f883827d7af3"
      },
      "execution_count": null,
      "outputs": [
        {
          "output_type": "execute_result",
          "data": {
            "text/plain": [
              "38.46153846153847"
            ]
          },
          "metadata": {},
          "execution_count": 10
        }
      ]
    },
    {
      "cell_type": "code",
      "source": [],
      "metadata": {
        "id": "BIA-65FJjUgh"
      },
      "execution_count": null,
      "outputs": []
    }
  ]
}